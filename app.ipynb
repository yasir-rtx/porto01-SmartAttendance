{
 "cells": [
  {
   "cell_type": "code",
   "execution_count": 1,
   "id": "61bdb891-25c3-4154-b169-a6b49c16b2d4",
   "metadata": {},
   "outputs": [],
   "source": [
    "import cv2"
   ]
  },
  {
   "cell_type": "code",
   "execution_count": null,
   "id": "cbb8b692",
   "metadata": {},
   "outputs": [],
   "source": [
    "# Access camera\n",
    "def setCamera(index, width=640, height=480, fps=30):\n",
    "    cap = cv2.VideoCapture(index)\n",
    "    \n",
    "    # Set the camera resolution (optional)\n",
    "    cap.set(cv2.CAP_PROP_FRAME_WIDTH, width)\n",
    "    cap.set(cv2.CAP_PROP_FRAME_HEIGHT, height)\n",
    "    \n",
    "    # Set the camera frame rate (optional)\n",
    "    cap.set(cv2.CAP_PROP_FPS, fps)\n",
    "    \n",
    "    return cap\n",
    "\n",
    "# change the camera index if necessary\n",
    "# Common indices are 0 for the default camera, 1 for an external camera, etc.\n",
    "def getCamera(index=1, max_attempt=3):\n",
    "    while max_attempt:\n",
    "        print(f\"Opening Camera {index}...\")\n",
    "        cap = setCamera(index)\n",
    "        if not cap.isOpened():\n",
    "            print(f\"Camera {index} is not Available!\")\n",
    "            index+=1\n",
    "            max_attempt-=1\n",
    "        else:\n",
    "            print(f\"Camera {index} is Available!\")\n",
    "            return cap\n",
    "    \n",
    "    if not max_attempt:\n",
    "        print(\"Opening Default Camera\")\n",
    "        cap = setCamera(index=0)\n",
    "        if not cap.isOpened():\n",
    "            print(\"Default Camera is not Available!\")\n",
    "            exit()\n",
    "        return cap"
   ]
  },
  {
   "cell_type": "code",
   "execution_count": 8,
   "id": "6c4e820c",
   "metadata": {},
   "outputs": [
    {
     "name": "stdout",
     "output_type": "stream",
     "text": [
      "Opening Camera 1...\n",
      "Camera 1 is not Available!\n",
      "Opening Camera 2...\n",
      "Camera 2 is not Available!\n",
      "Opening Camera 3...\n",
      "Camera 3 is not Available!\n",
      "Opening Default Camera\n"
     ]
    },
    {
     "name": "stderr",
     "output_type": "stream",
     "text": [
      "[ WARN:0@340.659] global cap_v4l.cpp:913 open VIDEOIO(V4L2:/dev/video1): can't open camera by index\n",
      "[ERROR:0@340.757] global obsensor_uvc_stream_channel.cpp:158 getStreamChannelGroup Camera index out of range\n",
      "[ WARN:0@340.757] global cap_v4l.cpp:913 open VIDEOIO(V4L2:/dev/video2): can't open camera by index\n",
      "[ERROR:0@340.757] global obsensor_uvc_stream_channel.cpp:158 getStreamChannelGroup Camera index out of range\n",
      "[ WARN:0@340.758] global cap_v4l.cpp:913 open VIDEOIO(V4L2:/dev/video3): can't open camera by index\n",
      "[ERROR:0@340.758] global obsensor_uvc_stream_channel.cpp:158 getStreamChannelGroup Camera index out of range\n"
     ]
    }
   ],
   "source": [
    "# Access camera\n",
    "cap = getCamera()\n",
    "\n",
    "# Check if the video capture has been initialized correctly\n",
    "if not cap.isOpened():\n",
    "    print(\"Error: Could not open video device.\")\n",
    "    exit()\n",
    "\n",
    "while cap.isOpened():\n",
    "    ret, frame = cap.read()\n",
    "    \n",
    "    if not ret:\n",
    "        print(\"Could not read frame.\")\n",
    "        break\n",
    "    \n",
    "    # Display the frame in a window\n",
    "    cv2.imshow(\"Camera Feed\", frame)\n",
    "    \n",
    "    # Wait for 1 ms and check if the 'q' key is pressed\n",
    "    if cv2.waitKey(1) & 0xFF == ord('q'):\n",
    "        break\n",
    "    \n",
    "# Release the video capture object and close all OpenCV windows\n",
    "# Note: The video capture object is released and all OpenCV windows are closed\n",
    "# when the loop is exited, either by pressing 'q' or if an error occurs.\n",
    "# This ensures that resources are cleaned up properly.\n",
    "cv2.destroyAllWindows()\n",
    "cap.release()"
   ]
  }
 ],
 "metadata": {
  "kernelspec": {
   "display_name": "env",
   "language": "python",
   "name": "python3"
  },
  "language_info": {
   "codemirror_mode": {
    "name": "ipython",
    "version": 3
   },
   "file_extension": ".py",
   "mimetype": "text/x-python",
   "name": "python",
   "nbconvert_exporter": "python",
   "pygments_lexer": "ipython3",
   "version": "3.10.17"
  }
 },
 "nbformat": 4,
 "nbformat_minor": 5
}
